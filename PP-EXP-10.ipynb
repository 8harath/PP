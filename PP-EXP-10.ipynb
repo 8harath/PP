{
 "cells": [
  {
   "cell_type": "code",
   "execution_count": 1,
   "id": "999018fe",
   "metadata": {},
   "outputs": [
    {
     "name": "stdout",
     "output_type": "stream",
     "text": [
      "    Name  Age       City\n",
      "0  Alice   25  Bangalore\n",
      "1    Bob   30    Chennai\n"
     ]
    }
   ],
   "source": [
    "import pandas as pd\n",
    "\n",
    "data = {'Name': ['Alice', 'Bob'], 'Age': [25, 30]}\n",
    "df = pd.DataFrame(data)\n",
    "\n",
    "df['City'] = ['Bangalore', 'Chennai']\n",
    "print(df)"
   ]
  },
  {
   "cell_type": "code",
   "execution_count": 9,
   "id": "efcb3f16",
   "metadata": {},
   "outputs": [
    {
     "name": "stdout",
     "output_type": "stream",
     "text": [
      "   A  B\n",
      "0  1  5\n",
      "1  2  6\n",
      "2  3  7\n",
      "3  4  8\n",
      "   A  B\n",
      "0  1  5\n",
      "1  2  6\n",
      "2  3  7\n",
      "3  4  8\n",
      "              A         B\n",
      "count  4.000000  4.000000\n",
      "mean   2.500000  6.500000\n",
      "std    1.290994  1.290994\n",
      "min    1.000000  5.000000\n",
      "25%    1.750000  5.750000\n",
      "50%    2.500000  6.500000\n",
      "75%    3.250000  7.250000\n",
      "max    4.000000  8.000000\n",
      "<class 'pandas.core.frame.DataFrame'>\n",
      "RangeIndex: 4 entries, 0 to 3\n",
      "Data columns (total 2 columns):\n",
      " #   Column  Non-Null Count  Dtype\n",
      "---  ------  --------------  -----\n",
      " 0   A       4 non-null      int64\n",
      " 1   B       4 non-null      int64\n",
      "dtypes: int64(2)\n",
      "memory usage: 196.0 bytes\n",
      "None\n"
     ]
    }
   ],
   "source": [
    "import pandas as pd\n",
    "\n",
    "df = pd.DataFrame({'A': [1, 2, 3, 4], 'B': [5, 6, 7, 8]})\n",
    "\n",
    "print(df.head())\n",
    "print(df.tail())\n",
    "print(df.describe())\n",
    "print(df.info())"
   ]
  },
  {
   "cell_type": "code",
   "execution_count": 3,
   "id": "e6bdb907",
   "metadata": {},
   "outputs": [
    {
     "name": "stdout",
     "output_type": "stream",
     "text": [
      "    Name  Age       City\n",
      "0  Alice   25  Bangalore\n",
      "1    Bob   30    Chennai\n",
      "             Age\n",
      "count   2.000000\n",
      "mean   27.500000\n",
      "std     3.535534\n",
      "min    25.000000\n",
      "25%    26.250000\n",
      "50%    27.500000\n",
      "75%    28.750000\n",
      "max    30.000000\n",
      "<class 'pandas.core.frame.DataFrame'>\n",
      "RangeIndex: 2 entries, 0 to 1\n",
      "Data columns (total 3 columns):\n",
      " #   Column  Non-Null Count  Dtype \n",
      "---  ------  --------------  ----- \n",
      " 0   Name    2 non-null      object\n",
      " 1   Age     2 non-null      int64 \n",
      " 2   City    2 non-null      object\n",
      "dtypes: int64(1), object(2)\n",
      "memory usage: 180.0+ bytes\n",
      "None\n"
     ]
    }
   ],
   "source": [
    "import pandas as pd\n",
    "\n",
    "# Create the sample CSV file if it doesn't exist\n",
    "sample_csv_data = \"\"\"Name,Age,City\n",
    "Alice,25,Bangalore\n",
    "Bob,30,Chennai\"\"\"\n",
    "with open('sample.csv', 'w') as f:\n",
    "\tf.write(sample_csv_data)\n",
    "\n",
    "# Read the CSV file\n",
    "df = pd.read_csv('sample.csv')\n",
    "df = df.dropna()\n",
    "print(df.head())\n",
    "print(df.describe())\n",
    "print(df.info())"
   ]
  },
  {
   "cell_type": "code",
   "execution_count": 4,
   "id": "b52c49df",
   "metadata": {},
   "outputs": [
    {
     "name": "stdout",
     "output_type": "stream",
     "text": [
      "     A    B\n",
      "0  1.0  4.0\n",
      "1  0.0  5.0\n",
      "2  3.0  0.0\n",
      "     A    B\n",
      "0  1.0  4.0\n"
     ]
    }
   ],
   "source": [
    "import pandas as pd\n",
    "\n",
    "df = pd.DataFrame({'A': [1, None, 3], 'B': [4, 5, None]})\n",
    "\n",
    "df_filled = df.fillna(0)\n",
    "df_dropped = df.dropna()\n",
    "\n",
    "print(df_filled)\n",
    "print(df_dropped)"
   ]
  },
  {
   "cell_type": "code",
   "execution_count": 5,
   "id": "f19318bc",
   "metadata": {},
   "outputs": [
    {
     "name": "stdout",
     "output_type": "stream",
     "text": [
      "Alice\n",
      "30\n"
     ]
    }
   ],
   "source": [
    "import pandas as pd\n",
    "\n",
    "df = pd.DataFrame({'Name': ['Alice', 'Bob'], 'Age': [25, 30]})\n",
    "\n",
    "print(df.loc[0, 'Name'])\n",
    "print(df.iloc[1, 1])"
   ]
  },
  {
   "cell_type": "code",
   "execution_count": 6,
   "id": "0eb9da3f",
   "metadata": {},
   "outputs": [
    {
     "name": "stdout",
     "output_type": "stream",
     "text": [
      "   ID   Name       City\n",
      "0   1  Alice  Bangalore\n",
      "1   2    Bob    Chennai\n"
     ]
    }
   ],
   "source": [
    "import pandas as pd\n",
    "\n",
    "df1 = pd.DataFrame({'ID': [1, 2], 'Name': ['Alice', 'Bob']})\n",
    "df2 = pd.DataFrame({'ID': [1, 2], 'City': ['Bangalore', 'Chennai']})\n",
    "\n",
    "result = pd.merge(df1, df2, on='ID', how='inner')\n",
    "print(result)"
   ]
  },
  {
   "cell_type": "code",
   "execution_count": 10,
   "id": "ab9e4213",
   "metadata": {},
   "outputs": [
    {
     "name": "stdout",
     "output_type": "stream",
     "text": [
      "Requirement already satisfied: openpyxl in c:\\users\\user\\appdata\\local\\programs\\python\\python312\\lib\\site-packages (3.1.5)\n",
      "Requirement already satisfied: et-xmlfile in c:\\users\\user\\appdata\\local\\programs\\python\\python312\\lib\\site-packages (from openpyxl) (2.0.0)\n",
      "Note: you may need to restart the kernel to use updated packages.\n",
      "    Name  Age       City\n",
      "0  Alice   25  Bangalore\n",
      "1    Bob   30    Chennai\n",
      "    Name  Age       City\n",
      "0  Alice   25  Bangalore\n",
      "1    Bob   30    Chennai\n"
     ]
    },
    {
     "name": "stderr",
     "output_type": "stream",
     "text": [
      "\n",
      "[notice] A new release of pip is available: 25.0.1 -> 25.1.1\n",
      "[notice] To update, run: python.exe -m pip install --upgrade pip\n"
     ]
    }
   ],
   "source": [
    "# Install the required module\n",
    "%pip install openpyxl\n",
    "\n",
    "import pandas as pd\n",
    "\n",
    "# Create and save sample CSV and Excel files\n",
    "sample_csv_data = \"Name,Age,City\\nAlice,25,Bangalore\\nBob,30,Chennai\"\n",
    "with open('sample.csv', 'w') as f:\n",
    "\tf.write(sample_csv_data)\n",
    "\n",
    "pd.DataFrame({'Name': ['Alice', 'Bob'], 'Age': [25, 30], 'City': ['Bangalore', 'Chennai']}).to_excel('sample.xlsx', index=False)\n",
    "\n",
    "# Read the files\n",
    "df_csv = pd.read_csv('sample.csv')\n",
    "df_excel = pd.read_excel('sample.xlsx')\n",
    "\n",
    "print(df_csv.head())\n",
    "print(df_excel.head())\n"
   ]
  },
  {
   "cell_type": "code",
   "execution_count": 8,
   "id": "aa4ba58c",
   "metadata": {},
   "outputs": [
    {
     "name": "stdout",
     "output_type": "stream",
     "text": [
      "0     apple\n",
      "1    banana\n",
      "2     apple\n",
      "3    banana\n",
      "4    cherry\n",
      "dtype: object\n",
      "apple     2\n",
      "banana    2\n",
      "cherry    1\n",
      "Name: count, dtype: int64\n"
     ]
    }
   ],
   "source": [
    "import pandas as pd\n",
    "\n",
    "s = pd.Series(['Apple', 'Banana', 'apple', 'Banana', 'Cherry'])\n",
    "\n",
    "lowercase = s.str.lower()\n",
    "counts = lowercase.value_counts()\n",
    "\n",
    "print(lowercase)\n",
    "print(counts)"
   ]
  }
 ],
 "metadata": {
  "kernelspec": {
   "display_name": "Python 3",
   "language": "python",
   "name": "python3"
  },
  "language_info": {
   "codemirror_mode": {
    "name": "ipython",
    "version": 3
   },
   "file_extension": ".py",
   "mimetype": "text/x-python",
   "name": "python",
   "nbconvert_exporter": "python",
   "pygments_lexer": "ipython3",
   "version": "3.12.6"
  }
 },
 "nbformat": 4,
 "nbformat_minor": 5
}
